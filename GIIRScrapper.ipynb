{
 "cells": [
  {
   "cell_type": "code",
   "execution_count": 63,
   "id": "d242a721-a028-42fc-abd0-bb4ad8bfaea4",
   "metadata": {},
   "outputs": [],
   "source": [
    "from selenium import webdriver\n",
    "from selenium.common import exceptions\n",
    "from selenium.webdriver.common.by import By\n",
    "import pandas as pd\n",
    "import numpy as np\n",
    "from pprint import PrettyPrinter\n",
    "import sys"
   ]
  },
  {
   "cell_type": "code",
   "execution_count": 5,
   "id": "4bd969b9-8f4e-42bf-8bc1-2d0e3434b1d3",
   "metadata": {},
   "outputs": [],
   "source": [
    "pp = PrettyPrinter(indent=2)"
   ]
  },
  {
   "cell_type": "code",
   "execution_count": null,
   "id": "4fc66641-2063-44d6-9feb-763cfcbb7576",
   "metadata": {},
   "outputs": [],
   "source": [
    "sample = pd.read_csv('GIIRScraper_04_14_2022__12_15_27.csv')\n",
    "sample.head()"
   ]
  },
  {
   "cell_type": "code",
   "execution_count": null,
   "id": "6a405c0a-a399-44f0-b8e3-30299527a75f",
   "metadata": {
    "tags": []
   },
   "outputs": [],
   "source": [
    "sample.info()"
   ]
  },
  {
   "cell_type": "code",
   "execution_count": 62,
   "id": "84e081fc-313e-4df0-8044-575c244d46f1",
   "metadata": {
    "tags": []
   },
   "outputs": [
    {
     "ename": "SyntaxError",
     "evalue": "invalid syntax (4061819199.py, line 78)",
     "output_type": "error",
     "traceback": [
      "\u001b[0;36m  File \u001b[0;32m\"/var/folders/c6/hmrnwnyd77197y43v6pf4gjc0000gn/T/ipykernel_85367/4061819199.py\"\u001b[0;36m, line \u001b[0;32m78\u001b[0m\n\u001b[0;31m    def filter_df_and_save(data, lower=None, upper=None)\u001b[0m\n\u001b[0m                                                        ^\u001b[0m\n\u001b[0;31mSyntaxError\u001b[0m\u001b[0;31m:\u001b[0m invalid syntax\n"
     ]
    }
   ],
   "source": [
    "def scrape_data(lower='', upper=''):\n",
    "    # SCRAPE DATA\n",
    "    browser = webdriver.Chrome()\n",
    "    browser.get('https://www.giiresearch.com/material_report.shtml')\n",
    "\n",
    "    # data columns\n",
    "    data = dict()\n",
    "    data['Published_Date'] = []\n",
    "    data['Category'] = []\n",
    "    data['Report_Title'] = []\n",
    "    data['Summary'] = []\n",
    "    data['No_of_Pages'] = []\n",
    "    data['Table_of_Contents'] = []\n",
    "    data['List_of_Tables'] = []\n",
    "\n",
    "\n",
    "    # get link to each record on search page\n",
    "    links = []\n",
    "    tables = browser.find_elements(by=By.CLASS_NAME, value='plist_item')\n",
    "\n",
    "    for table in tables:\n",
    "        links.append(table.find_element(By.CLASS_NAME, 'plist_title')\n",
    "                        .find_element(By.CLASS_NAME, 'plist_t_box')\n",
    "                        .find_element(By.CLASS_NAME, 'list_title')\n",
    "                        .find_element(By.TAG_NAME, 'a').get_attribute('href'))\n",
    "\n",
    "    # get record data from each page\n",
    "    for link in links:\n",
    "        # date\n",
    "        browser.get(link)\n",
    "        date = (browser\n",
    "                .find_element(By.CSS_SELECTOR, '#Content_Body > div.prodinfo_body > div.prod_info_box > nobr:nth-child(1) > span > time')\n",
    "                .text)\n",
    "        data['Published_Date'].append(date)\n",
    "\n",
    "        # title\n",
    "        title = (browser\n",
    "                 .find_element(By.CSS_SELECTOR, '#Content_Body > div.prodinfo_body > table > tbody > tr > td.prdinfo_title > h1 > span')\n",
    "                 .text\n",
    "        )\n",
    "        data['Report_Title'].append(title)\n",
    "\n",
    "        # industry\n",
    "        industry = browser.find_element(By.CSS_SELECTOR, '#Body_Bread > div > a:nth-child(3)').text\n",
    "        data['Category'].append(industry)\n",
    "\n",
    "        # summary \n",
    "        summary = browser.find_element(By.CSS_SELECTOR, '#INTRODUCTION > div.cntSecContent').text\n",
    "        data['Summary'].append(summary)\n",
    "\n",
    "        # No of pages\n",
    "        try:\n",
    "            p_nos =(int(browser.find_element(By.CSS_SELECTOR, '#Content_Body > div.prodinfo_body > div.prod_info_box > nobr:nth-child(5) > span')\n",
    "                    .text.split(' ')[0]))\n",
    "        except ValueError:\n",
    "            p_nos = np.NaN\n",
    "        except exceptions.NoSuchElementException:\n",
    "            p_nos = np.NaN\n",
    "        data['No_of_Pages'].append(p_nos)\n",
    "        # Table of contents\n",
    "        try:\n",
    "            browser.find_element(By.ID, 'Tab').find_elements(By.TAG_NAME, 'li')[1].click()\n",
    "            t_o_c = browser.find_element(By.ID, 'TOC').text\n",
    "        except:\n",
    "            t_o_c=np.NaN\n",
    "        data['Table_of_Contents'].append(t_o_c)\n",
    "\n",
    "        # List of Tables\n",
    "        try:\n",
    "            browser.find_element(By.ID, 'Tab').find_elements(By.TAG_NAME, 'li')[2].click()\n",
    "            l_o_t = browser.find_element(By.ID, 'LOT').text\n",
    "        except:\n",
    "            l_o_t=np.NaN\n",
    "        data['List_of_Tables'].append(l_o_t)\n",
    "    browser.close()\n",
    "\n",
    "    # CONVERT TO DATAFRAME\n",
    "    df = pd.DataFrame(data)\n",
    "    df.Published_Date = pd.to_datetime(df.Published_Date, format='%B %d, %Y') # convert date to date time\n",
    "    \n",
    "    # FILTER TABLE BASED ON GIVEN DATE\n",
    "    if high and low: # check for date range arguements\n",
    "        df = df[df.Published_Date[(df.Published_Date >= low)] <= high] # filter \n",
    "    elif low: \n",
    "        df = df[(df.Published_Date >= low)] # filter\n",
    "        \n",
    "    # SAVE TABLE AS CSV FILE\n",
    "    df.to_csv('GIIR_records')\n",
    "    \n",
    "    \n",
    "if '__main__' == __name__:\n",
    "    print('Enter dates below | Enter q to quit')\n",
    "    low = input('Low e.g. January 1, 2022: ')\n",
    "    high = input('High e.g. January 1, 2022: ')\n",
    "\n",
    "    low = pd.to_datetime(low) \n",
    "    high = pd.to_datetime(high)\n",
    "    scrape_data(low, high)\n",
    "    print('GIIR csv file saved!')\n",
    "    sys.exit()"
   ]
  },
  {
   "cell_type": "code",
   "execution_count": 45,
   "id": "fea7545e-0fe8-4c54-9765-deaeb770f2f1",
   "metadata": {},
   "outputs": [
    {
     "name": "stdout",
     "output_type": "stream",
     "text": [
      "<class 'pandas.core.frame.DataFrame'>\n",
      "RangeIndex: 25 entries, 0 to 24\n",
      "Data columns (total 7 columns):\n",
      " #   Column             Non-Null Count  Dtype         \n",
      "---  ------             --------------  -----         \n",
      " 0   Published_Date     25 non-null     datetime64[ns]\n",
      " 1   Category           25 non-null     object        \n",
      " 2   Report_Title       25 non-null     object        \n",
      " 3   Summary            25 non-null     object        \n",
      " 4   No_of_Pages        24 non-null     float64       \n",
      " 5   Table_of_Contents  25 non-null     object        \n",
      " 6   List_of_Tables     16 non-null     object        \n",
      "dtypes: datetime64[ns](1), float64(1), object(5)\n",
      "memory usage: 1.5+ KB\n"
     ]
    }
   ],
   "source": [
    "df.info()"
   ]
  },
  {
   "cell_type": "code",
   "execution_count": 44,
   "id": "4d64b871-4032-4a10-a104-217c14abec8a",
   "metadata": {},
   "outputs": [],
   "source": [
    "df.Published_Date = pd.to_datetime(df.Published_Date)"
   ]
  },
  {
   "cell_type": "code",
   "execution_count": 88,
   "id": "bfb23fa5-10b5-46bf-911a-002dc0679dc5",
   "metadata": {},
   "outputs": [
    {
     "data": {
      "text/plain": [
       "19   2022-04-13\n",
       "20   2022-04-13\n",
       "21   2022-04-13\n",
       "22   2022-04-12\n",
       "23   2022-04-12\n",
       "24   2022-04-12\n",
       "Name: Published_Date, dtype: datetime64[ns]"
      ]
     },
     "execution_count": 88,
     "metadata": {},
     "output_type": "execute_result"
    }
   ],
   "source": [
    "df.[df.Published_Date[(df.Published_Date > pd.to_datetime('April 10, 2022'))] <= pd.to_datetime('April 13, 2022')]\n"
   ]
  },
  {
   "cell_type": "code",
   "execution_count": 84,
   "id": "e1de315c-56f9-45ae-9fd7-2ca616ca41b5",
   "metadata": {
    "collapsed": true,
    "jupyter": {
     "outputs_hidden": true
    },
    "tags": []
   },
   "outputs": [
    {
     "name": "stdout",
     "output_type": "stream",
     "text": [
      "Enter dates | Enter q to quit\n"
     ]
    },
    {
     "name": "stdin",
     "output_type": "stream",
     "text": [
      "Low e.g. January 1, 2022:  dd\n",
      "High e.g. January 1, 2022:  dd\n"
     ]
    },
    {
     "name": "stdout",
     "output_type": "stream",
     "text": [
      "Enter dates | Enter q to quit\n"
     ]
    },
    {
     "name": "stdin",
     "output_type": "stream",
     "text": [
      "Low e.g. January 1, 2022:  dd\n",
      "High e.g. January 1, 2022:  dd\n"
     ]
    },
    {
     "name": "stdout",
     "output_type": "stream",
     "text": [
      "Enter dates | Enter q to quit\n"
     ]
    },
    {
     "name": "stdin",
     "output_type": "stream",
     "text": [
      "Low e.g. January 1, 2022:  q\n",
      "High e.g. January 1, 2022:  \n"
     ]
    },
    {
     "name": "stdout",
     "output_type": "stream",
     "text": [
      "Enter dates | Enter q to quit\n"
     ]
    },
    {
     "name": "stdin",
     "output_type": "stream",
     "text": [
      "Low e.g. January 1, 2022:  ii\n",
      "High e.g. January 1, 2022:  \n"
     ]
    },
    {
     "name": "stdout",
     "output_type": "stream",
     "text": [
      "Enter dates | Enter q to quit\n"
     ]
    },
    {
     "ename": "KeyboardInterrupt",
     "evalue": "Interrupted by user",
     "output_type": "error",
     "traceback": [
      "\u001b[0;31m---------------------------------------------------------------------------\u001b[0m",
      "\u001b[0;31mKeyboardInterrupt\u001b[0m                         Traceback (most recent call last)",
      "\u001b[0;32m/var/folders/c6/hmrnwnyd77197y43v6pf4gjc0000gn/T/ipykernel_85367/316974546.py\u001b[0m in \u001b[0;36m<module>\u001b[0;34m\u001b[0m\n\u001b[1;32m      1\u001b[0m \u001b[0;32mwhile\u001b[0m \u001b[0;32mTrue\u001b[0m\u001b[0;34m:\u001b[0m\u001b[0;34m\u001b[0m\u001b[0;34m\u001b[0m\u001b[0m\n\u001b[1;32m      2\u001b[0m     \u001b[0mprint\u001b[0m\u001b[0;34m(\u001b[0m\u001b[0;34m'Enter dates | Enter q to quit'\u001b[0m\u001b[0;34m)\u001b[0m\u001b[0;34m\u001b[0m\u001b[0;34m\u001b[0m\u001b[0m\n\u001b[0;32m----> 3\u001b[0;31m     \u001b[0mlow\u001b[0m \u001b[0;34m=\u001b[0m \u001b[0minput\u001b[0m\u001b[0;34m(\u001b[0m\u001b[0;34m'Low e.g. January 1, 2022: '\u001b[0m\u001b[0;34m)\u001b[0m\u001b[0;34m\u001b[0m\u001b[0;34m\u001b[0m\u001b[0m\n\u001b[0m\u001b[1;32m      4\u001b[0m     \u001b[0mhigh\u001b[0m \u001b[0;34m=\u001b[0m \u001b[0minput\u001b[0m\u001b[0;34m(\u001b[0m\u001b[0;34m'High e.g. January 1, 2022: '\u001b[0m\u001b[0;34m)\u001b[0m\u001b[0;34m\u001b[0m\u001b[0;34m\u001b[0m\u001b[0m\n\u001b[1;32m      5\u001b[0m     \u001b[0;32mcontinue\u001b[0m\u001b[0;34m\u001b[0m\u001b[0;34m\u001b[0m\u001b[0m\n",
      "\u001b[0;32m~/.pyenv/versions/3.8.6/lib/python3.8/site-packages/ipykernel/kernelbase.py\u001b[0m in \u001b[0;36mraw_input\u001b[0;34m(self, prompt)\u001b[0m\n\u001b[1;32m   1004\u001b[0m                 \u001b[0;34m\"raw_input was called, but this frontend does not support input requests.\"\u001b[0m\u001b[0;34m\u001b[0m\u001b[0;34m\u001b[0m\u001b[0m\n\u001b[1;32m   1005\u001b[0m             )\n\u001b[0;32m-> 1006\u001b[0;31m         return self._input_request(\n\u001b[0m\u001b[1;32m   1007\u001b[0m             \u001b[0mstr\u001b[0m\u001b[0;34m(\u001b[0m\u001b[0mprompt\u001b[0m\u001b[0;34m)\u001b[0m\u001b[0;34m,\u001b[0m\u001b[0;34m\u001b[0m\u001b[0;34m\u001b[0m\u001b[0m\n\u001b[1;32m   1008\u001b[0m             \u001b[0mself\u001b[0m\u001b[0;34m.\u001b[0m\u001b[0m_parent_ident\u001b[0m\u001b[0;34m[\u001b[0m\u001b[0;34m\"shell\"\u001b[0m\u001b[0;34m]\u001b[0m\u001b[0;34m,\u001b[0m\u001b[0;34m\u001b[0m\u001b[0;34m\u001b[0m\u001b[0m\n",
      "\u001b[0;32m~/.pyenv/versions/3.8.6/lib/python3.8/site-packages/ipykernel/kernelbase.py\u001b[0m in \u001b[0;36m_input_request\u001b[0;34m(self, prompt, ident, parent, password)\u001b[0m\n\u001b[1;32m   1049\u001b[0m             \u001b[0;32mexcept\u001b[0m \u001b[0mKeyboardInterrupt\u001b[0m\u001b[0;34m:\u001b[0m\u001b[0;34m\u001b[0m\u001b[0;34m\u001b[0m\u001b[0m\n\u001b[1;32m   1050\u001b[0m                 \u001b[0;31m# re-raise KeyboardInterrupt, to truncate traceback\u001b[0m\u001b[0;34m\u001b[0m\u001b[0;34m\u001b[0m\u001b[0;34m\u001b[0m\u001b[0m\n\u001b[0;32m-> 1051\u001b[0;31m                 \u001b[0;32mraise\u001b[0m \u001b[0mKeyboardInterrupt\u001b[0m\u001b[0;34m(\u001b[0m\u001b[0;34m\"Interrupted by user\"\u001b[0m\u001b[0;34m)\u001b[0m \u001b[0;32mfrom\u001b[0m \u001b[0;32mNone\u001b[0m\u001b[0;34m\u001b[0m\u001b[0;34m\u001b[0m\u001b[0m\n\u001b[0m\u001b[1;32m   1052\u001b[0m             \u001b[0;32mexcept\u001b[0m \u001b[0mException\u001b[0m\u001b[0;34m:\u001b[0m\u001b[0;34m\u001b[0m\u001b[0;34m\u001b[0m\u001b[0m\n\u001b[1;32m   1053\u001b[0m                 \u001b[0mself\u001b[0m\u001b[0;34m.\u001b[0m\u001b[0mlog\u001b[0m\u001b[0;34m.\u001b[0m\u001b[0mwarning\u001b[0m\u001b[0;34m(\u001b[0m\u001b[0;34m\"Invalid Message:\"\u001b[0m\u001b[0;34m,\u001b[0m \u001b[0mexc_info\u001b[0m\u001b[0;34m=\u001b[0m\u001b[0;32mTrue\u001b[0m\u001b[0;34m)\u001b[0m\u001b[0;34m\u001b[0m\u001b[0;34m\u001b[0m\u001b[0m\n",
      "\u001b[0;31mKeyboardInterrupt\u001b[0m: Interrupted by user"
     ]
    }
   ],
   "source": [
    "while True:\n",
    "    print('Enter dates | Enter q to quit')\n",
    "    low = input('Low e.g. January 1, 2022: ')\n",
    "    high = input('High e.g. January 1, 2022: ')\n",
    "    \n",
    "    if low or high == 'q':\n",
    "        break\n",
    "        sys.exit()  \n",
    "        \n",
    "    if len(low) > 0 and len(high) > 0:\n",
    "        try:\n",
    "            low = pd.to_datetime(low) \n",
    "            high = pd.to_datetime(high)\n",
    "            break\n",
    "        except:\n",
    "            print('Input correct data format')\n",
    "            continue"
   ]
  },
  {
   "cell_type": "code",
   "execution_count": 89,
   "id": "27b4306c-eded-4c7d-9f16-2bf7fce06105",
   "metadata": {},
   "outputs": [
    {
     "data": {
      "text/html": [
       "<div>\n",
       "<style scoped>\n",
       "    .dataframe tbody tr th:only-of-type {\n",
       "        vertical-align: middle;\n",
       "    }\n",
       "\n",
       "    .dataframe tbody tr th {\n",
       "        vertical-align: top;\n",
       "    }\n",
       "\n",
       "    .dataframe thead th {\n",
       "        text-align: right;\n",
       "    }\n",
       "</style>\n",
       "<table border=\"1\" class=\"dataframe\">\n",
       "  <thead>\n",
       "    <tr style=\"text-align: right;\">\n",
       "      <th></th>\n",
       "      <th>Published_Date</th>\n",
       "      <th>Category</th>\n",
       "      <th>Report_Title</th>\n",
       "      <th>Summary</th>\n",
       "      <th>No_of_Pages</th>\n",
       "      <th>Table_of_Contents</th>\n",
       "      <th>List_of_Tables</th>\n",
       "    </tr>\n",
       "  </thead>\n",
       "  <tbody>\n",
       "    <tr>\n",
       "      <th>0</th>\n",
       "      <td>2022-04-18</td>\n",
       "      <td>Advanced Material</td>\n",
       "      <td>Global Synthetic Fibres (Polyester, Nylon, Acr...</td>\n",
       "      <td>The global synthetic fibres market is expected...</td>\n",
       "      <td>105.0</td>\n",
       "      <td>Table of Contents\\n1. Market Overview\\n1.1 Int...</td>\n",
       "      <td>NaN</td>\n",
       "    </tr>\n",
       "    <tr>\n",
       "      <th>1</th>\n",
       "      <td>2022-04-18</td>\n",
       "      <td>Advanced Material</td>\n",
       "      <td>Global Helium Market: Insights &amp; Forecast with...</td>\n",
       "      <td>The global helium market is forecasted to reac...</td>\n",
       "      <td>87.0</td>\n",
       "      <td>Table of Contents\\n1. Market Overview\\n1.1 Hel...</td>\n",
       "      <td>NaN</td>\n",
       "    </tr>\n",
       "    <tr>\n",
       "      <th>2</th>\n",
       "      <td>2022-04-18</td>\n",
       "      <td>Advanced Material</td>\n",
       "      <td>Global Petrochemical Market (By Type &amp; Region)...</td>\n",
       "      <td>The global petrochemical market is forecasted ...</td>\n",
       "      <td>104.0</td>\n",
       "      <td>Table of Contents\\n1. Market Overview\\n1.1 Pet...</td>\n",
       "      <td>NaN</td>\n",
       "    </tr>\n",
       "    <tr>\n",
       "      <th>3</th>\n",
       "      <td>2022-04-18</td>\n",
       "      <td>Advanced Material</td>\n",
       "      <td>Global Surfactants Market (Non-ionic, Anionic ...</td>\n",
       "      <td>The global surfactants market value is forecas...</td>\n",
       "      <td>116.0</td>\n",
       "      <td>Table of Contents\\n1. Market Overview\\n1.1 Int...</td>\n",
       "      <td>NaN</td>\n",
       "    </tr>\n",
       "    <tr>\n",
       "      <th>4</th>\n",
       "      <td>2022-04-14</td>\n",
       "      <td>Advanced Material</td>\n",
       "      <td>Re-Refined Base Oil Market - Global Outlook &amp; ...</td>\n",
       "      <td>The In-depth Analysis and Data-driven Insights...</td>\n",
       "      <td>294.0</td>\n",
       "      <td>Product Code: ARZ220303\\nTABLE OF CONTENTS\\n1 ...</td>\n",
       "      <td>LIST OF EXHIBITS\\nEXHIBIT 1 SEGMENTATION OF GL...</td>\n",
       "    </tr>\n",
       "  </tbody>\n",
       "</table>\n",
       "</div>"
      ],
      "text/plain": [
       "  Published_Date           Category  \\\n",
       "0     2022-04-18  Advanced Material   \n",
       "1     2022-04-18  Advanced Material   \n",
       "2     2022-04-18  Advanced Material   \n",
       "3     2022-04-18  Advanced Material   \n",
       "4     2022-04-14  Advanced Material   \n",
       "\n",
       "                                        Report_Title  \\\n",
       "0  Global Synthetic Fibres (Polyester, Nylon, Acr...   \n",
       "1  Global Helium Market: Insights & Forecast with...   \n",
       "2  Global Petrochemical Market (By Type & Region)...   \n",
       "3  Global Surfactants Market (Non-ionic, Anionic ...   \n",
       "4  Re-Refined Base Oil Market - Global Outlook & ...   \n",
       "\n",
       "                                             Summary  No_of_Pages  \\\n",
       "0  The global synthetic fibres market is expected...        105.0   \n",
       "1  The global helium market is forecasted to reac...         87.0   \n",
       "2  The global petrochemical market is forecasted ...        104.0   \n",
       "3  The global surfactants market value is forecas...        116.0   \n",
       "4  The In-depth Analysis and Data-driven Insights...        294.0   \n",
       "\n",
       "                                   Table_of_Contents  \\\n",
       "0  Table of Contents\\n1. Market Overview\\n1.1 Int...   \n",
       "1  Table of Contents\\n1. Market Overview\\n1.1 Hel...   \n",
       "2  Table of Contents\\n1. Market Overview\\n1.1 Pet...   \n",
       "3  Table of Contents\\n1. Market Overview\\n1.1 Int...   \n",
       "4  Product Code: ARZ220303\\nTABLE OF CONTENTS\\n1 ...   \n",
       "\n",
       "                                      List_of_Tables  \n",
       "0                                                NaN  \n",
       "1                                                NaN  \n",
       "2                                                NaN  \n",
       "3                                                NaN  \n",
       "4  LIST OF EXHIBITS\\nEXHIBIT 1 SEGMENTATION OF GL...  "
      ]
     },
     "execution_count": 89,
     "metadata": {},
     "output_type": "execute_result"
    }
   ],
   "source": [
    "df.head()"
   ]
  },
  {
   "cell_type": "code",
   "execution_count": 92,
   "id": "30c0e296-1624-4993-8529-511e70a02f1b",
   "metadata": {},
   "outputs": [],
   "source": [
    "df.to_csv('GIIR_records.csv', index=False)"
   ]
  },
  {
   "cell_type": "code",
   "execution_count": null,
   "id": "84014b39-199f-4875-b8a6-68f070ac950a",
   "metadata": {},
   "outputs": [],
   "source": []
  }
 ],
 "metadata": {
  "kernelspec": {
   "display_name": "Py3.8.6 (main env)",
   "language": "python",
   "name": "python3"
  },
  "language_info": {
   "codemirror_mode": {
    "name": "ipython",
    "version": 3
   },
   "file_extension": ".py",
   "mimetype": "text/x-python",
   "name": "python",
   "nbconvert_exporter": "python",
   "pygments_lexer": "ipython3",
   "version": "3.8.6"
  }
 },
 "nbformat": 4,
 "nbformat_minor": 5
}
